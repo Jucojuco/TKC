{
 "cells": [
  {
   "cell_type": "markdown",
   "metadata": {},
   "source": [
    "# Classificação das espécies de flor (iris.csv)"
   ]
  },
  {
   "cell_type": "markdown",
   "metadata": {},
   "source": [
    "# Importando Bibliotecas"
   ]
  },
  {
   "cell_type": "code",
   "execution_count": 7,
   "metadata": {},
   "outputs": [],
   "source": [
    "%matplotlib inline\n",
    "\n",
    "import numpy as np\n",
    "import pandas as pd\n",
    "import matplotlib.pyplot as plt\n",
    "\n",
    "from pyspark.ml.feature import PCA\n",
    "from pyspark.ml.linalg import Vectors\n",
    "\n",
    "from pyspark.ml.stat import ChiSquareTest\n",
    "\n",
    "from pyspark.sql import SparkSession, Row\n",
    "\n",
    "from pyspark.ml.feature import Normalizer\n",
    "from pyspark.sql.functions import col, when\n",
    "\n",
    "from pyspark.ml import Pipeline\n",
    "from pyspark.ml.classification import MultilayerPerceptronClassifier\n",
    "from pyspark.ml.evaluation import MulticlassClassificationEvaluator"
   ]
  },
  {
   "cell_type": "markdown",
   "metadata": {},
   "source": [
    "# Lendo Dataset"
   ]
  },
  {
   "cell_type": "code",
   "execution_count": 8,
   "metadata": {},
   "outputs": [
    {
     "name": "stdout",
     "output_type": "stream",
     "text": [
      "+------------+-----------+------------+-----------+-------+------+\n",
      "|sepal_length|sepal_width|petal_length|petal_width|species|target|\n",
      "+------------+-----------+------------+-----------+-------+------+\n",
      "|5.1         |3.5        |1.4         |0.2        |setosa |0     |\n",
      "|4.9         |3.0        |1.4         |0.2        |setosa |0     |\n",
      "|4.7         |3.2        |1.3         |0.2        |setosa |0     |\n",
      "|4.6         |3.1        |1.5         |0.2        |setosa |0     |\n",
      "|5.0         |3.6        |1.4         |0.2        |setosa |0     |\n",
      "+------------+-----------+------------+-----------+-------+------+\n",
      "only showing top 5 rows\n",
      "\n"
     ]
    }
   ],
   "source": [
    "spark = SparkSession.builder.appName(\"dataset\").getOrCreate()\n",
    "spark = SparkSession.builder.appName(\"dataset\").getOrCreate()\n",
    "dataset = spark.read.csv(\"datasets/iris.csv\", header=True).withColumn(\"target\", #forço a classificação na colua \"target\"\n",
    "                 when(col(\"species\") == \"setosa\", 0) \\\n",
    "                .when(col(\"species\") == \"versicolor\", 2)\n",
    "                .otherwise(1)) \\\n",
    "    .cache()\n",
    "\n",
    "dataset.show(5, truncate=False)"
   ]
  },
  {
   "cell_type": "markdown",
   "metadata": {},
   "source": [
    "# Normalizando dados e condensando Features"
   ]
  },
  {
   "cell_type": "code",
   "execution_count": 9,
   "metadata": {},
   "outputs": [
    {
     "name": "stdout",
     "output_type": "stream",
     "text": [
      "+-----+---------------------------------------------------------------------------------+\n",
      "|label|features                                                                         |\n",
      "+-----+---------------------------------------------------------------------------------+\n",
      "|0    |[0.5,0.3431372549019608,0.13725490196078433,0.019607843137254905]                |\n",
      "|0    |[0.5157894736842106,0.3157894736842105,0.14736842105263157,0.021052631578947368] |\n",
      "|0    |[0.5,0.3404255319148936,0.13829787234042554,0.02127659574468085]                 |\n",
      "|0    |[0.4893617021276596,0.3297872340425532,0.15957446808510642,0.021276595744680854] |\n",
      "|0    |[0.4901960784313726,0.35294117647058826,0.13725490196078433,0.019607843137254905]|\n",
      "+-----+---------------------------------------------------------------------------------+\n",
      "only showing top 5 rows\n",
      "\n"
     ]
    }
   ],
   "source": [
    "#rdd.map = um \"for\" paralelizavel que irá percorrer todo dataset.\n",
    "# Row = linha do dataframe. Crio 2 colunas (data e label). Em data, coloco o vetor denso, em label, coloco o outro\n",
    "# a saída n eh um dataframe, eh um rdd, por isso devo colocar \"toDF\" (to dataframe)\n",
    "data_vector = dataset.rdd.map(lambda row: Row(data=Vectors.dense(row[0], row[1], row[2], row[3]), label=row[5])).toDF()\n",
    "\n",
    "#normalização, transform direto\n",
    "normalizer = Normalizer(inputCol=\"data\", outputCol=\"features\", p=1.0)\n",
    "features = normalizer.transform(data_vector).drop(\"data\")\n",
    "features.show(5, truncate=False)"
   ]
  },
  {
   "cell_type": "markdown",
   "metadata": {},
   "source": [
    "# Aplicando PCA"
   ]
  },
  {
   "cell_type": "code",
   "execution_count": 10,
   "metadata": {},
   "outputs": [
    {
     "name": "stdout",
     "output_type": "stream",
     "text": [
      "pValues: [0.08703503703198168,0.17423291097211524,0.10124397458681877,0.04665593652898303]\n",
      "degreesOfFreedom: [268, 278, 270, 254]\n",
      "statistics: [300.0,299.99999999999994,300.0,293.00000000000045]\n"
     ]
    }
   ],
   "source": [
    "#Ajuda a analisar as features mais relevantes\n",
    "r = ChiSquareTest.test(features, \"features\", \"label\").head()\n",
    "print(\"pValues: \" + str(r.pValues)) #explica de novo pls\n",
    "print(\"degreesOfFreedom: \" + str(r.degreesOfFreedom)) #Grau de variância de cada Feature\n",
    "print(\"statistics: \" + str(r.statistics)) #indica a representação estatística da feature"
   ]
  },
  {
   "cell_type": "code",
   "execution_count": 11,
   "metadata": {},
   "outputs": [],
   "source": [
    "#Aplicando PCA para selecionar 2 features mais relevantes para tratamento\n",
    "pca = PCA(k=2, inputCol=\"features\", outputCol=\"pcaFeatures\")"
   ]
  },
  {
   "cell_type": "code",
   "execution_count": 12,
   "metadata": {},
   "outputs": [],
   "source": [
    "model = pca.fit(features)"
   ]
  },
  {
   "cell_type": "code",
   "execution_count": 13,
   "metadata": {
    "scrolled": true
   },
   "outputs": [
    {
     "name": "stdout",
     "output_type": "stream",
     "text": [
      "+------------------------------------------+-----+\n",
      "|pcaFeatures                               |label|\n",
      "+------------------------------------------+-----+\n",
      "|[-0.2938612643550726,0.20898501242973064] |0    |\n",
      "|[-0.27667402717611567,0.23612672928973188]|0    |\n",
      "|[-0.2910616967793551,0.20993829502190178] |0    |\n",
      "|[-0.2671665469594165,0.21045443456887566] |0    |\n",
      "|[-0.295985666948637,0.19644191631524746]  |0    |\n",
      "+------------------------------------------+-----+\n",
      "only showing top 5 rows\n",
      "\n"
     ]
    }
   ],
   "source": [
    "result = model.transform(features).select(\"pcaFeatures\", \"label\")\n",
    "result.show(5, truncate=False)"
   ]
  },
  {
   "cell_type": "markdown",
   "metadata": {},
   "source": [
    "# Extraindo Novos Vetores de Análise"
   ]
  },
  {
   "cell_type": "code",
   "execution_count": 14,
   "metadata": {},
   "outputs": [
    {
     "name": "stdout",
     "output_type": "stream",
     "text": [
      "+-----+--------------------+-------------------+\n",
      "|label|Fx                  |FY                 |\n",
      "+-----+--------------------+-------------------+\n",
      "|0    |-0.2938612643550726 |0.20898501242973064|\n",
      "|0    |-0.27667402717611567|0.23612672928973188|\n",
      "|0    |-0.2910616967793551 |0.20993829502190178|\n",
      "|0    |-0.2671665469594165 |0.21045443456887566|\n",
      "|0    |-0.295985666948637  |0.19644191631524746|\n",
      "+-----+--------------------+-------------------+\n",
      "only showing top 5 rows\n",
      "\n"
     ]
    }
   ],
   "source": [
    "def extract(row):\n",
    "    return (row.label, ) + tuple(row.pcaFeatures.toArray().tolist())\n",
    "\n",
    " #\"toArray(): Separa as coluninhas de result em duas colunas diferentes\"\n",
    "\n",
    "data_frame = result.rdd.map(extract).toDF([\"label\", \"Fx\", \"FY\"])\n",
    "data_frame.show(5, truncate=False)"
   ]
  },
  {
   "cell_type": "code",
   "execution_count": 15,
   "metadata": {},
   "outputs": [
    {
     "name": "stdout",
     "output_type": "stream",
     "text": [
      "(150, 2)\n",
      "(150,)\n"
     ]
    }
   ],
   "source": [
    "X = np.array(data_frame.select(\"Fx\", \"FY\").collect()).astype(np.float)\n",
    "Y = np.array(data_frame.select(\"label\").collect()).ravel().astype(np.float)\n",
    "print(X.shape)\n",
    "print(Y.shape)"
   ]
  },
  {
   "cell_type": "markdown",
   "metadata": {},
   "source": [
    "# Plotando Dados na nova \"Vetorização\""
   ]
  },
  {
   "cell_type": "code",
   "execution_count": 16,
   "metadata": {},
   "outputs": [
    {
     "data": {
      "image/png": "[encoded data removed]",
      "text/plain": [
       "<Figure size 432x288 with 1 Axes>"
      ]
     },
     "metadata": {
      "needs_background": "light"
     },
     "output_type": "display_data"
    }
   ],
   "source": [
    "#Formato entrada\n",
    "#to pandas\n",
    "#Gráfico do tipo Pontos de Dispersão\n",
    "plt.scatter(X[:, 0], #pego toda primeira coluna (correspondente ao Comprimento de \"sepalas\")\n",
    "            X[:, 1], #pego toda primeira coluna (correspondente ao Comprimento de \"petalas\")\n",
    "            c=Y) #atribuindo cores\n",
    "\n",
    "#Nomeando parâmetros do plot\n",
    "plt.xlabel('Comprimento sepalas')\n",
    "plt.ylabel('Comprimento petalas')\n",
    "plt.show()"
   ]
  },
  {
   "cell_type": "markdown",
   "metadata": {},
   "source": [
    "# Normalizando dados pós PCA"
   ]
  },
  {
   "cell_type": "code",
   "execution_count": 17,
   "metadata": {},
   "outputs": [
    {
     "name": "stdout",
     "output_type": "stream",
     "text": [
      "+-----+-----------------------------------------+\n",
      "|label|features                                 |\n",
      "+-----+-----------------------------------------+\n",
      "|0    |[-0.5843958241751738,0.41560417582482634]|\n",
      "|0    |[-0.5395351385261502,0.4604648614738498] |\n",
      "|0    |[-0.5809614801247686,0.4190385198752315] |\n",
      "|0    |[-0.5593693687922517,0.4406306312077483] |\n",
      "|0    |[-0.6010745072134246,0.3989254927865753] |\n",
      "+-----+-----------------------------------------+\n",
      "only showing top 5 rows\n",
      "\n"
     ]
    }
   ],
   "source": [
    "#rdd.map = um \"for\" paralelizavel que irá percorrer todo dataset.\n",
    "# Row = linha do dataframe. Crio 2 colunas (data e label). Em data, coloco o vetor denso, em label, coloco o outro\n",
    "# a saída n eh um dataframe, eh um rdd, por isso devo colocar \"toDF\" (to dataframe)\n",
    "data_vector = data_frame.rdd.map(lambda row: Row(data=Vectors.dense(row[1], row[2]), label=row[0])).toDF()\n",
    "\n",
    "#normalização, transform direto\n",
    "normalizer = Normalizer(inputCol=\"data\", outputCol=\"features\", p=1.0)\n",
    "features = normalizer.transform(data_vector).drop(\"data\")\n",
    "features.show(5, truncate=False)"
   ]
  },
  {
   "cell_type": "markdown",
   "metadata": {},
   "source": [
    "# Aplicar Algorítmo de Classificação"
   ]
  },
  {
   "cell_type": "code",
   "execution_count": 18,
   "metadata": {},
   "outputs": [],
   "source": [
    "(train, test) = features.randomSplit([0.65, 0.35], seed = 10)"
   ]
  },
  {
   "cell_type": "code",
   "execution_count": 19,
   "metadata": {},
   "outputs": [],
   "source": [
    "#número de camadas: 3 neuronios de entrada, 7 na camada intermediaria e 3 na saída\n",
    "mlp = MultilayerPerceptronClassifier(layers=[2, 7, 3])\n",
    "pipeline = Pipeline(stages=[mlp])\n",
    "\n",
    "model = pipeline.fit(train)\n",
    "predictions = model.transform(test)"
   ]
  },
  {
   "cell_type": "code",
   "execution_count": 20,
   "metadata": {},
   "outputs": [
    {
     "name": "stdout",
     "output_type": "stream",
     "text": [
      "+-----------------------------------------+----------+-----+\n",
      "|features                                 |prediction|label|\n",
      "+-----------------------------------------+----------+-----+\n",
      "|[-0.6383949750092655,0.3616050249907346] |0.0       |0    |\n",
      "|[-0.6333156663491332,0.3666843336508669] |0.0       |0    |\n",
      "|[-0.6033789712465593,0.39662102875344074]|0.0       |0    |\n",
      "|[-0.6029784990650995,0.3970215009349006] |0.0       |0    |\n",
      "|[-0.6003356080020977,0.3996643919979022] |0.0       |0    |\n",
      "+-----------------------------------------+----------+-----+\n",
      "only showing top 5 rows\n",
      "\n"
     ]
    }
   ],
   "source": [
    "predictions = predictions.select('features', 'prediction', 'label')\n",
    "predictions.show(5, truncate=False)"
   ]
  },
  {
   "cell_type": "markdown",
   "metadata": {},
   "source": [
    "# Avaliando Modelo"
   ]
  },
  {
   "cell_type": "code",
   "execution_count": 21,
   "metadata": {},
   "outputs": [
    {
     "name": "stdout",
     "output_type": "stream",
     "text": [
      "Accuracy = 0.9661016949152542\n"
     ]
    }
   ],
   "source": [
    "evaluator = MulticlassClassificationEvaluator(metricName=\"accuracy\")\n",
    "print(\"Accuracy = \" + str(evaluator.evaluate(predictions)))"
   ]
  },
  {
   "cell_type": "code",
   "execution_count": 22,
   "metadata": {},
   "outputs": [
    {
     "data": {
      "text/html": [
       "<div>\n",
       "<style scoped>\n",
       "    .dataframe tbody tr th:only-of-type {\n",
       "        vertical-align: middle;\n",
       "    }\n",
       "\n",
       "    .dataframe tbody tr th {\n",
       "        vertical-align: top;\n",
       "    }\n",
       "\n",
       "    .dataframe thead th {\n",
       "        text-align: right;\n",
       "    }\n",
       "</style>\n",
       "<table border=\"1\" class=\"dataframe\">\n",
       "  <thead>\n",
       "    <tr style=\"text-align: right;\">\n",
       "      <th>col_0</th>\n",
       "      <th>0</th>\n",
       "      <th>1</th>\n",
       "      <th>2</th>\n",
       "    </tr>\n",
       "    <tr>\n",
       "      <th>row_0</th>\n",
       "      <th></th>\n",
       "      <th></th>\n",
       "      <th></th>\n",
       "    </tr>\n",
       "  </thead>\n",
       "  <tbody>\n",
       "    <tr>\n",
       "      <th>0.0</th>\n",
       "      <td>20</td>\n",
       "      <td>0</td>\n",
       "      <td>0</td>\n",
       "    </tr>\n",
       "    <tr>\n",
       "      <th>1.0</th>\n",
       "      <td>0</td>\n",
       "      <td>15</td>\n",
       "      <td>2</td>\n",
       "    </tr>\n",
       "    <tr>\n",
       "      <th>2.0</th>\n",
       "      <td>0</td>\n",
       "      <td>0</td>\n",
       "      <td>22</td>\n",
       "    </tr>\n",
       "  </tbody>\n",
       "</table>\n",
       "</div>"
      ],
      "text/plain": [
       "col_0   0   1   2\n",
       "row_0            \n",
       "0.0    20   0   0\n",
       "1.0     0  15   2\n",
       "2.0     0   0  22"
      ]
     },
     "execution_count": 22,
     "metadata": {},
     "output_type": "execute_result"
    }
   ],
   "source": [
    "data = np.array(predictions.collect())\n",
    "pd.crosstab(data[:,1], data[:,2])"
   ]
  },
  {
   "cell_type": "code",
   "execution_count": null,
   "metadata": {},
   "outputs": [],
   "source": []
  }
 ],
 "metadata": {
  "kernelspec": {
   "display_name": "Python 3",
   "language": "python",
   "name": "python3"
  },
  "language_info": {
   "codemirror_mode": {
    "name": "ipython",
    "version": 3
   },
   "file_extension": ".py",
   "mimetype": "text/x-python",
   "name": "python",
   "nbconvert_exporter": "python",
   "pygments_lexer": "ipython3",
   "version": "3.6.6"
  }
 },
 "nbformat": 4,
 "nbformat_minor": 2
}
