{
 "cells": [
  {
   "cell_type": "markdown",
   "metadata": {},
   "source": [
    "# Exercício\n",
    "No diretório `aula02/datasets` disponibilizamos o arquivo `weather_history.csv`. Esse arquivo descreve eventos naturais, como: Temperatura, umidade, velocidade do vento, etc. Existe uma relação entre umidade e temperatura? E quanto a umidade e temperatura aparente? Você pode prever a temperatura aparente dada a umidade?\n"
   ]
  },
  {
   "cell_type": "code",
   "execution_count": 62,
   "metadata": {},
   "outputs": [],
   "source": [
    "from pyspark.sql.functions import lit\n",
    "from pyspark.sql import SparkSession, SQLContext, Row\n",
    "\n",
    "#Normalização dos dados\n",
    "import matplotlib.pyplot as plt\n",
    "import pandas as pd\n",
    "import numpy as np\n",
    "\n",
    "#Regressão\n",
    "from pyspark.ml.regression import GBTRegressor\n",
    "from pyspark.ml.feature import VectorAssembler, Normalizer\n",
    "from pyspark.ml.evaluation import RegressionEvaluator\n",
    "from pyspark.ml.stat import Correlation\n",
    "from pyspark.ml import Pipeline\n",
    "\n",
    "from pyspark.ml.feature import StandardScaler"
   ]
  },
  {
   "cell_type": "markdown",
   "metadata": {},
   "source": [
    "## Leitura dos Dados"
   ]
  },
  {
   "cell_type": "code",
   "execution_count": 63,
   "metadata": {},
   "outputs": [
    {
     "name": "stdout",
     "output_type": "stream",
     "text": [
      "root\n",
      " |-- Formatted Date: string (nullable = true)\n",
      " |-- Summary: string (nullable = true)\n",
      " |-- Precip Type: string (nullable = true)\n",
      " |-- TempC: string (nullable = true)\n",
      " |-- ApTempC: string (nullable = true)\n",
      " |-- Humidity: string (nullable = true)\n",
      " |-- Wind Speed (km/h): string (nullable = true)\n",
      " |-- Wind Bearing (degrees): string (nullable = true)\n",
      " |-- Visibility (km): string (nullable = true)\n",
      " |-- Loud Cover: string (nullable = true)\n",
      " |-- Pressure (millibars): string (nullable = true)\n",
      " |-- Daily Summary: string (nullable = true)\n",
      "\n"
     ]
    }
   ],
   "source": [
    "spark = SparkSession.builder.appName(\"dataset\").getOrCreate()\n",
    "dataset = spark.read.csv(\"weather_history.csv\", header=True).cache()\n",
    "\n",
    "dataset.printSchema()"
   ]
  },
  {
   "cell_type": "code",
   "execution_count": 64,
   "metadata": {
    "scrolled": true
   },
   "outputs": [
    {
     "name": "stdout",
     "output_type": "stream",
     "text": [
      "+--------+--------+\n",
      "|   TempC|Humidity|\n",
      "+--------+--------+\n",
      "|9.472222|    0.89|\n",
      "|9.355556|    0.86|\n",
      "|9.377778|    0.89|\n",
      "|8.288889|    0.83|\n",
      "|8.755555|    0.83|\n",
      "+--------+--------+\n",
      "only showing top 5 rows\n",
      "\n"
     ]
    }
   ],
   "source": [
    "data_tarefa = dataset.select(dataset.TempC.cast('float'), dataset.Humidity.cast('float'))\n",
    "\n",
    "data_tarefa.show(5)"
   ]
  },
  {
   "cell_type": "markdown",
   "metadata": {},
   "source": [
    "## Avaliando Correlação Humidade vs Temperatura"
   ]
  },
  {
   "cell_type": "code",
   "execution_count": 65,
   "metadata": {},
   "outputs": [
    {
     "name": "stdout",
     "output_type": "stream",
     "text": [
      "+--------+--------+--------------------------------------+\n",
      "|TempC   |Humidity|features                              |\n",
      "+--------+--------+--------------------------------------+\n",
      "|9.472222|0.89    |[9.472222328186035,0.8899999856948853]|\n",
      "|9.355556|0.86    |[9.355555534362793,0.8600000143051147]|\n",
      "|9.377778|0.89    |[9.377778053283691,0.8899999856948853]|\n",
      "|8.288889|0.83    |[8.288888931274414,0.8299999833106995]|\n",
      "|8.755555|0.83    |[8.755555152893066,0.8299999833106995]|\n",
      "+--------+--------+--------------------------------------+\n",
      "only showing top 5 rows\n",
      "\n"
     ]
    }
   ],
   "source": [
    "#\"vetor spark\", permite a associação dos dados em um vetor trabalhavel pelo spark\n",
    "assembler = VectorAssembler(inputCols=[\"TempC\", \"Humidity\"], outputCol=\"features\")\n",
    "\n",
    "#determina a sequência de execução\n",
    "pipeline = Pipeline(stages=[assembler])\n",
    "# .fit: em cima dos dados de treino; trabalho com tudo\n",
    "model = pipeline.fit(data_tarefa)\n",
    "# .transform: em cima dos dados de teste\n",
    "features = model.transform(data_tarefa)\n",
    "\n",
    "features.show(5, truncate=False)"
   ]
  },
  {
   "cell_type": "code",
   "execution_count": 66,
   "metadata": {},
   "outputs": [
    {
     "name": "stdout",
     "output_type": "stream",
     "text": [
      "Pearson correlation matrix:\n",
      "DenseMatrix([[ 1.        , -0.63225468],\n",
      "             [-0.63225468,  1.        ]])\n"
     ]
    }
   ],
   "source": [
    "r = Correlation.corr(features, \"features\").head()\n",
    "print(\"Pearson correlation matrix:\\n\" + str(r[0]))"
   ]
  },
  {
   "cell_type": "markdown",
   "metadata": {},
   "source": [
    "## Avaliando Correlação Temperatura Aparente x Umidade"
   ]
  },
  {
   "cell_type": "code",
   "execution_count": 67,
   "metadata": {},
   "outputs": [
    {
     "name": "stdout",
     "output_type": "stream",
     "text": [
      "+---------+--------+\n",
      "|  ApTempC|Humidity|\n",
      "+---------+--------+\n",
      "| 7.388889|    0.89|\n",
      "| 7.227778|    0.86|\n",
      "| 9.377778|    0.89|\n",
      "|5.9444447|    0.83|\n",
      "| 6.977778|    0.83|\n",
      "+---------+--------+\n",
      "only showing top 5 rows\n",
      "\n"
     ]
    }
   ],
   "source": [
    "data_tarefa = dataset.select(dataset.ApTempC.cast('float'), dataset.Humidity.cast('float'))\n",
    "\n",
    "data_tarefa.show(5)"
   ]
  },
  {
   "cell_type": "code",
   "execution_count": 68,
   "metadata": {},
   "outputs": [
    {
     "name": "stdout",
     "output_type": "stream",
     "text": [
      "+---------+--------+--------------------------------------+\n",
      "|ApTempC  |Humidity|features                              |\n",
      "+---------+--------+--------------------------------------+\n",
      "|7.388889 |0.89    |[7.388888835906982,0.8899999856948853]|\n",
      "|7.227778 |0.86    |[7.22777795791626,0.8600000143051147] |\n",
      "|9.377778 |0.89    |[9.377778053283691,0.8899999856948853]|\n",
      "|5.9444447|0.83    |[5.94444465637207,0.8299999833106995] |\n",
      "|6.977778 |0.83    |[6.97777795791626,0.8299999833106995] |\n",
      "+---------+--------+--------------------------------------+\n",
      "only showing top 5 rows\n",
      "\n"
     ]
    }
   ],
   "source": [
    "#\"vetor spark\", permite a associação dos dados em um vetor trabalhavel pelo spark\n",
    "assembler = VectorAssembler(inputCols=[\"ApTempC\", \"Humidity\"], outputCol=\"features\")\n",
    "\n",
    "#determina a sequência de execução\n",
    "pipeline = Pipeline(stages=[assembler])\n",
    "# .fit: em cima dos dados de treino; trabalho com tudo\n",
    "model = pipeline.fit(data_tarefa)\n",
    "# .transform: em cima dos dados de teste\n",
    "features = model.transform(data_tarefa)\n",
    "\n",
    "features.show(5, truncate=False)"
   ]
  },
  {
   "cell_type": "code",
   "execution_count": 69,
   "metadata": {},
   "outputs": [
    {
     "name": "stdout",
     "output_type": "stream",
     "text": [
      "Pearson correlation matrix:\n",
      "DenseMatrix([[ 1.      , -0.602571],\n",
      "             [-0.602571,  1.      ]])\n"
     ]
    }
   ],
   "source": [
    "r = Correlation.corr(features, \"features\").head()\n",
    "print(\"Pearson correlation matrix:\\n\" + str(r[0]))"
   ]
  },
  {
   "cell_type": "markdown",
   "metadata": {},
   "source": [
    "         Portanto, podemos concluir que a relação Temperatura (aparente) X Umidade é inversa - ou seja, quanto maior a temperatura (aparente), menor a humidade - e não linear. Essa relação não é muito forte (como pode-se observar pela distância do índice aos extremos do intervalo [-1,1], portanto a melhor forma de gerar uma função que se aproxime de uma função dessa relação (se ela existir) será através do método GRB. Além disso, a relação entre Temperatura e Umidade é mais linearmente forte do que a relação Temperatura Aparente X Umidade."
   ]
  },
  {
   "cell_type": "markdown",
   "metadata": {},
   "source": [
    "## Aplicando Procedimento adequado"
   ]
  },
  {
   "cell_type": "code",
   "execution_count": 70,
   "metadata": {},
   "outputs": [
    {
     "name": "stdout",
     "output_type": "stream",
     "text": [
      "+------------------+-------------------+----+\n",
      "|ApTempC           |label              |bias|\n",
      "+------------------+-------------------+----+\n",
      "|0.8924976521761431|0.10750234782385697|1   |\n",
      "|0.893666713248199 |0.10633328675180097|1   |\n",
      "|0.9133210727465803|0.08667892725341977|1   |\n",
      "|0.8774807342215485|0.12251926577845151|1   |\n",
      "|0.893695749346546 |0.10630425065345397|1   |\n",
      "+------------------+-------------------+----+\n",
      "only showing top 5 rows\n",
      "\n"
     ]
    }
   ],
   "source": [
    "assembler = VectorAssembler(inputCols=[\"ApTempC\", \"Humidity\"], outputCol=\"features\")\n",
    "scaler = StandardScaler(inputCol=\"features\", outputCol=\"features\", withStd=True, withMean=False)\n",
    "normalizer = Normalizer(inputCol=\"features\", outputCol=\"normalized\", p=1.0)\n",
    "\n",
    "pipeline = Pipeline(stages=[assembler, normalizer])\n",
    "model = pipeline.fit(data_tarefa)\n",
    "features = model.transform(data_tarefa)\n",
    "\n",
    "def extract(row):\n",
    "    return tuple(row.normalized.toArray().tolist())\n",
    "\n",
    "data = features.rdd.map(extract).toDF([\"ApTempC\",\"Humidity\"])\n",
    "data = data.withColumnRenamed('Humidity', 'label')\n",
    "data = data.withColumn('bias', lit(1))\n",
    "data.show(5, truncate=False)"
   ]
  },
  {
   "cell_type": "code",
   "execution_count": 71,
   "metadata": {},
   "outputs": [],
   "source": [
    "(train, test) = data.randomSplit([0.7, 0.3])"
   ]
  },
  {
   "cell_type": "code",
   "execution_count": 72,
   "metadata": {},
   "outputs": [],
   "source": [
    "assemblers = VectorAssembler(inputCols=[\"ApTempC\", \"bias\"], outputCol=\"features\")\n",
    "\n",
    "#até aqui igual os outros modelos\n",
    "regression = GBTRegressor(featuresCol=\"features\", maxIter=10)\n",
    "pipeline = Pipeline(stages=[assemblers, regression])\n",
    "\n",
    "model = pipeline.fit(train)\n",
    "predictions = model.transform(test)"
   ]
  },
  {
   "cell_type": "code",
   "execution_count": 73,
   "metadata": {},
   "outputs": [
    {
     "name": "stdout",
     "output_type": "stream",
     "text": [
      "+-------------------+--------------------+----+-------------------------+-------------------+\n",
      "|ApTempC            |label               |bias|features                 |prediction         |\n",
      "+-------------------+--------------------+----+-------------------------+-------------------+\n",
      "|-1.0               |0.0                 |1   |[-1.0,1.0]               |0.06961545689442539|\n",
      "|-1.0               |0.0                 |1   |[-1.0,1.0]               |0.06961545689442539|\n",
      "|-1.0               |0.0                 |1   |[-1.0,1.0]               |0.06961545689442539|\n",
      "|-0.9784345060853077|0.02156549391469233 |1   |[-0.9784345060853077,1.0]|0.06961545689442539|\n",
      "|-0.9755856958329854|0.024414304167014626|1   |[-0.9755856958329854,1.0]|0.06961545689442539|\n",
      "+-------------------+--------------------+----+-------------------------+-------------------+\n",
      "only showing top 5 rows\n",
      "\n"
     ]
    }
   ],
   "source": [
    "predictions.show(5, truncate=False)"
   ]
  },
  {
   "cell_type": "code",
   "execution_count": 74,
   "metadata": {},
   "outputs": [
    {
     "name": "stdout",
     "output_type": "stream",
     "text": [
      "Root Mean Squared Error (RMSE) on test data = 0.0362502\n"
     ]
    }
   ],
   "source": [
    "evaluator = RegressionEvaluator(labelCol=\"label\", predictionCol=\"prediction\", metricName=\"rmse\")\n",
    "rmse = evaluator.evaluate(predictions)\n",
    "print(\"Root Mean Squared Error (RMSE) on test data = %g\" % rmse)"
   ]
  }
 ],
 "metadata": {
  "kernelspec": {
   "display_name": "Python 3",
   "language": "python",
   "name": "python3"
  },
  "language_info": {
   "codemirror_mode": {
    "name": "ipython",
    "version": 3
   },
   "file_extension": ".py",
   "mimetype": "text/x-python",
   "name": "python",
   "nbconvert_exporter": "python",
   "pygments_lexer": "ipython3",
   "version": "3.6.6"
  }
 },
 "nbformat": 4,
 "nbformat_minor": 2
}
