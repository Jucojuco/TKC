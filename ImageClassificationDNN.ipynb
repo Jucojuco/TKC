{
 "cells": [
  {
   "cell_type": "markdown",
   "metadata": {},
   "source": [
    "### Introdução"
   ]
  },
  {
   "cell_type": "markdown",
   "metadata": {},
   "source": [
    "Nesse caderno iremos aprender um pouco a gerar um classificador de imagem, usando uma rede neural do tipo Deconvulcional. Para isso utilizaremos o Dataset aberto MNIST, que é composto de 70000 imagens de números escritos à mão em escala de cinza. Nosso objetivo é criar um modelo que saiba classificar uma imagem em um dos possíveis dígitos (0,1,2,3,4,5,6,7,8,9). "
   ]
  },
  {
   "cell_type": "markdown",
   "metadata": {},
   "source": [
    "Para utilizar esse caderno certifique-se que você tem baixado todos os pacotes utilizados. Caso não, rode a célula a seguir sem os comentários para baixá-los."
   ]
  },
  {
   "cell_type": "code",
   "execution_count": 2,
   "metadata": {
    "scrolled": true
   },
   "outputs": [],
   "source": [
    "# !pip install sklearn\n",
    "# !pip install matplotlib\n",
    "# !pip install tensorflow\n",
    "# !pip install pandas\n",
    "# !pip install numpy"
   ]
  },
  {
   "cell_type": "markdown",
   "metadata": {},
   "source": [
    "### Importando Pacotes e Baixando Dataset"
   ]
  },
  {
   "cell_type": "code",
   "execution_count": 1,
   "metadata": {},
   "outputs": [],
   "source": [
    "from sklearn.metrics import confusion_matrix\n",
    "import matplotlib.pyplot as plt\n",
    "import tensorflow as tf\n",
    "import pandas as pd\n",
    "import numpy as np"
   ]
  },
  {
   "cell_type": "markdown",
   "metadata": {},
   "source": [
    "O dataset utilizado nesse tutorial pode ser baixado diretamente do tensorflow.\n",
    "Outra opção é utilizar o disponível no site \"https://www.kaggle.com/c/digit-recognizer\" ou utilizando o comando \"kaggle competitions download -c digit-recognizer\" no prompt de comando (note que é necessario executar \"pip install --upgrade kaggle\" antes para poder chamar a função kaggle). Neste exemplo, as bases estão no folder \"data\"."
   ]
  },
  {
   "cell_type": "markdown",
   "metadata": {},
   "source": [
    "Obs.: Não se assuste com os warnings."
   ]
  },
  {
   "cell_type": "code",
   "execution_count": 2,
   "metadata": {
    "collapsed": true
   },
   "outputs": [
    {
     "name": "stderr",
     "output_type": "stream",
     "text": [
      "WARNING: Logging before flag parsing goes to stderr.\n",
      "W0821 18:25:53.024923 15808 deprecation.py:323] From <ipython-input-2-d2926d6a90fc>:9: read_data_sets (from tensorflow.contrib.learn.python.learn.datasets.mnist) is deprecated and will be removed in a future version.\n",
      "Instructions for updating:\n",
      "Please use alternatives such as official/mnist/dataset.py from tensorflow/models.\n",
      "W0821 18:25:53.028719 15808 deprecation.py:323] From C:\\Users\\rebecca.maria.murad\\AppData\\Local\\Continuum\\anaconda3\\lib\\site-packages\\tensorflow\\contrib\\learn\\python\\learn\\datasets\\mnist.py:260: maybe_download (from tensorflow.contrib.learn.python.learn.datasets.base) is deprecated and will be removed in a future version.\n",
      "Instructions for updating:\n",
      "Please write your own downloading logic.\n",
      "W0821 18:25:53.032730 15808 deprecation.py:323] From C:\\Users\\rebecca.maria.murad\\AppData\\Local\\Continuum\\anaconda3\\lib\\site-packages\\tensorflow\\contrib\\learn\\python\\learn\\datasets\\mnist.py:262: extract_images (from tensorflow.contrib.learn.python.learn.datasets.mnist) is deprecated and will be removed in a future version.\n",
      "Instructions for updating:\n",
      "Please use tf.data to implement this functionality.\n"
     ]
    },
    {
     "name": "stdout",
     "output_type": "stream",
     "text": [
      "Extracting MNIST_data\\train-images-idx3-ubyte.gz\n"
     ]
    },
    {
     "name": "stderr",
     "output_type": "stream",
     "text": [
      "W0821 18:25:53.619320 15808 deprecation.py:323] From C:\\Users\\rebecca.maria.murad\\AppData\\Local\\Continuum\\anaconda3\\lib\\site-packages\\tensorflow\\contrib\\learn\\python\\learn\\datasets\\mnist.py:267: extract_labels (from tensorflow.contrib.learn.python.learn.datasets.mnist) is deprecated and will be removed in a future version.\n",
      "Instructions for updating:\n",
      "Please use tf.data to implement this functionality.\n",
      "W0821 18:25:53.723631 15808 deprecation.py:323] From C:\\Users\\rebecca.maria.murad\\AppData\\Local\\Continuum\\anaconda3\\lib\\site-packages\\tensorflow\\contrib\\learn\\python\\learn\\datasets\\mnist.py:290: DataSet.__init__ (from tensorflow.contrib.learn.python.learn.datasets.mnist) is deprecated and will be removed in a future version.\n",
      "Instructions for updating:\n",
      "Please use alternatives such as official/mnist/dataset.py from tensorflow/models.\n"
     ]
    },
    {
     "name": "stdout",
     "output_type": "stream",
     "text": [
      "Extracting MNIST_data\\train-labels-idx1-ubyte.gz\n",
      "Extracting MNIST_data\\t10k-images-idx3-ubyte.gz\n",
      "Extracting MNIST_data\\t10k-labels-idx1-ubyte.gz\n"
     ]
    }
   ],
   "source": [
    "# dataset externo (kaggle)\n",
    "\n",
    "train = pd.read_csv(\"data/train.csv\")\n",
    "test = pd.read_csv(\"data/test.csv\")\n",
    "\n",
    "# Acessando o mesmo dataset através do tensorflow\n",
    "\n",
    "from tensorflow.examples.tutorials.mnist import input_data\n",
    "mnist = input_data.read_data_sets('MNIST_data')"
   ]
  },
  {
   "cell_type": "code",
   "execution_count": 9,
   "metadata": {},
   "outputs": [],
   "source": [
    "# Aqui iremos separar os datasets de treino e de teste:\n",
    "x_train = mnist.train.images\n",
    "y_train = mnist.train.labels\n",
    "\n",
    "x_test = mnist.test.images\n",
    "y_test = mnist.test.labels"
   ]
  },
  {
   "cell_type": "markdown",
   "metadata": {},
   "source": [
    "### Explorando as bases "
   ]
  },
  {
   "cell_type": "markdown",
   "metadata": {},
   "source": [
    "Aqui podemos dar uma olhada no formato de cada uma das bases. Note que as bases x's possuem 784 colunas, o que significa que a imagem possui 784 pixels em escala cinza. Já as bases y's possuem apenas uma coluna que é o label (classe) de cada imagem. Por fim, a unica diferença entre as bases tipo \"train\" e \"test\" é o número de amostras."
   ]
  },
  {
   "cell_type": "code",
   "execution_count": 51,
   "metadata": {},
   "outputs": [
    {
     "name": "stdout",
     "output_type": "stream",
     "text": [
      "Train shape:\n",
      "(55000, 784)\n",
      "(55000,)\n",
      "\n",
      "Test shape:\n",
      "(10000, 784)\n",
      "(10000,)\n"
     ]
    }
   ],
   "source": [
    "print(\"Train shape:\")\n",
    "print(x_train.shape)\n",
    "print(y_train.shape)\n",
    "print(\"\\nTest shape:\")\n",
    "print(x_test.shape)\n",
    "print(y_test.shape)"
   ]
  },
  {
   "cell_type": "markdown",
   "metadata": {},
   "source": [
    "Aqui iremos plotar uma das imagens para que possamos conhecer melhor a base. É importante observar que os dados estão dispostos em um único vetor, então será necessário aplicar a função \"reshape\" para vizualizar a imagem 2D."
   ]
  },
  {
   "cell_type": "code",
   "execution_count": 12,
   "metadata": {},
   "outputs": [
    {
     "data": {
      "image/png": "[encoded data removed]",
      "text/plain": [
       "<Figure size 432x288 with 1 Axes>"
      ]
     },
     "metadata": {
      "needs_background": "light"
     },
     "output_type": "display_data"
    }
   ],
   "source": [
    "# Tente mudar o numero do índice para ver diferentes números na imagem\n",
    "# Obs: também é possível variar entre as bases\n",
    "rdm_img = x_train[25098]\n",
    "\n",
    "rdm_img = rdm_img.reshape((28,28))\n",
    "plt.imshow(rdm_img, cmap='gray')\n",
    "plt.show()"
   ]
  },
  {
   "cell_type": "markdown",
   "metadata": {},
   "source": [
    "### Construindo a rede DN (Deconvultional Neural Network)"
   ]
  },
  {
   "cell_type": "markdown",
   "metadata": {},
   "source": [
    "Aqui iremos construir uma rede do tipo Deconvultional Neural Network (link: https://www.matthewzeiler.com/mattzeiler/deconvolutionalnetworks.pdf)"
   ]
  },
  {
   "cell_type": "markdown",
   "metadata": {},
   "source": [
    "Se quiser se aprofundar mais nos tipos de redes neurais eu recomendo fortemente o site \"http://www.asimovinstitute.org/neural-network-zoo/\". Lá você verá que esse não é o tipo de rede mais recomendado para esse tipo de classificação, pois é pouco perfomático (lento para processar esse tipo de dado). O ideal seria utilizar uma rede do tipo convulsional, porém o dataset em questão é bem simples, o que permite essa abordagem."
   ]
  },
  {
   "cell_type": "markdown",
   "metadata": {},
   "source": [
    "Vale pontuar que estamos trabalhando com aprendizagem do tipo supervisionada, ou seja, nos sabemos quais são as classificações existentes e cada dado de treino está associado a uma classe."
   ]
  },
  {
   "cell_type": "markdown",
   "metadata": {},
   "source": [
    "Chamamos de features todas as variáveis que exceto a Classe. Elas são as nossas informações de entrada e é com elas que o algorítimo \"aprenderá\" a ler a imagem."
   ]
  },
  {
   "cell_type": "markdown",
   "metadata": {},
   "source": [
    "Um estimator é uma API de alto nível que, no caso, simplifica a criação de uma rede neural no tensorflow. Você pode encontrar mais detalhes em \"https://www.tensorflow.org/guide/estimators\". <div>\n",
    "Os Parâmetros usados serão:\n",
    "- feature_columns : Determina o formato das colunas de treino\n",
    "- hidden_units : Número de neuronios por camada\n",
    "- activation_fn : Função de ativação dos neurônios (https://medium.com/the-theory-of-everything/understanding-activation-functions-in-neural-networks-9491262884e0)\n",
    "- optimizer : otimizador https://www.tensorflow.org/api_docs/python/tf/train/AdamOptimizer com taxa de aprendizagem (https://machinelearningmastery.com/learning-rate-for-deep-learning-neural-networks/)\n",
    "- n_classes : Número de classes da base (10 no caso)\n",
    "- dropout : \"Desliga\" eventualmente uma porcentagem de neurônios, evitando overfitting\n",
    "- model_dir : Diretório onde irá salvar os checkpoints do modelo"
   ]
  },
  {
   "cell_type": "code",
   "execution_count": 13,
   "metadata": {},
   "outputs": [],
   "source": [
    "# Ensinando o tipo de imagem que estamos lidando\n",
    "feature_columns = [tf.feature_column.numeric_column(\"x\", shape=[28,28])]"
   ]
  },
  {
   "cell_type": "code",
   "execution_count": 14,
   "metadata": {},
   "outputs": [],
   "source": [
    "# Gerando o Classificador\n",
    "classifier = tf.estimator.DNNClassifier(\n",
    "    feature_columns = feature_columns,\n",
    "    hidden_units = [256, 32],\n",
    "    activation_fn = tf.nn.relu, # Função de ativação \"relu\"\n",
    "    optimizer = tf.train.AdamOptimizer(1e-4),\n",
    "    n_classes = 10,\n",
    "    dropout = 0.1,\n",
    "    model_dir = \"./mnist_model\"\n",
    ")"
   ]
  },
  {
   "cell_type": "markdown",
   "metadata": {},
   "source": [
    "Vamos definir uma função de input para ativar a rede. Os Parâmetros usados serão:\n",
    "- x : features usadas para treino\n",
    "- y : label\n",
    "- num_epochs vs batch_size : sugiro ler https://towardsdatascience.com/epoch-vs-iterations-vs-batch-size-4dfb9c7ce9c9 \n",
    "- shuffle : Se queremos embaralhar a base ao treinar o dataset"
   ]
  },
  {
   "cell_type": "code",
   "execution_count": 15,
   "metadata": {},
   "outputs": [],
   "source": [
    "# Input no formato de numpy_input_fn pq os dados estão em um numpy array\n",
    "train_input_fun = tf.estimator.inputs.numpy_input_fn (\n",
    "    x = {\"x\" : x_train},\n",
    "    y = y_train.astype(np.int32),\n",
    "    num_epochs = None,\n",
    "    batch_size = 50,\n",
    "    shuffle = True\n",
    ")"
   ]
  },
  {
   "cell_type": "markdown",
   "metadata": {},
   "source": [
    "### Treinando o modelo"
   ]
  },
  {
   "cell_type": "markdown",
   "metadata": {},
   "source": [
    "Com todos os preparativos feitos, vamos simplesmente chamar a função \"train_input_fun\" no nosso classificador, elegendo o número de steps (que será o número de épocas de treino)."
   ]
  },
  {
   "cell_type": "code",
   "execution_count": 16,
   "metadata": {
    "collapsed": true
   },
   "outputs": [
    {
     "name": "stderr",
     "output_type": "stream",
     "text": [
      "W0821 18:33:48.076384 15808 deprecation.py:323] From C:\\Users\\rebecca.maria.murad\\AppData\\Local\\Continuum\\anaconda3\\lib\\site-packages\\tensorflow\\python\\training\\training_util.py:236: Variable.initialized_value (from tensorflow.python.ops.variables) is deprecated and will be removed in a future version.\n",
      "Instructions for updating:\n",
      "Use Variable.read_value. Variables in 2.X are initialized automatically both in eager and graph (inside tf.defun) contexts.\n",
      "W0821 18:33:48.106154 15808 deprecation.py:323] From C:\\Users\\rebecca.maria.murad\\AppData\\Local\\Continuum\\anaconda3\\lib\\site-packages\\tensorflow_estimator\\python\\estimator\\inputs\\queues\\feeding_queue_runner.py:62: QueueRunner.__init__ (from tensorflow.python.training.queue_runner_impl) is deprecated and will be removed in a future version.\n",
      "Instructions for updating:\n",
      "To construct input pipelines, use the `tf.data` module.\n",
      "W0821 18:33:48.110506 15808 deprecation.py:323] From C:\\Users\\rebecca.maria.murad\\AppData\\Local\\Continuum\\anaconda3\\lib\\site-packages\\tensorflow_estimator\\python\\estimator\\inputs\\queues\\feeding_functions.py:500: add_queue_runner (from tensorflow.python.training.queue_runner_impl) is deprecated and will be removed in a future version.\n",
      "Instructions for updating:\n",
      "To construct input pipelines, use the `tf.data` module.\n",
      "W0821 18:33:48.137321 15808 deprecation.py:506] From C:\\Users\\rebecca.maria.murad\\AppData\\Local\\Continuum\\anaconda3\\lib\\site-packages\\tensorflow\\python\\ops\\init_ops.py:1251: calling VarianceScaling.__init__ (from tensorflow.python.ops.init_ops) with dtype is deprecated and will be removed in a future version.\n",
      "Instructions for updating:\n",
      "Call initializer instance with the dtype argument instead of passing it to the constructor\n",
      "W0821 18:33:50.252947 15808 deprecation.py:323] From C:\\Users\\rebecca.maria.murad\\AppData\\Local\\Continuum\\anaconda3\\lib\\site-packages\\tensorflow_estimator\\python\\estimator\\canned\\head.py:437: to_float (from tensorflow.python.ops.math_ops) is deprecated and will be removed in a future version.\n",
      "Instructions for updating:\n",
      "Use `tf.cast` instead.\n",
      "W0821 18:33:50.988852 15808 deprecation.py:323] From C:\\Users\\rebecca.maria.murad\\AppData\\Local\\Continuum\\anaconda3\\lib\\site-packages\\tensorflow\\python\\ops\\array_ops.py:1354: add_dispatch_support.<locals>.wrapper (from tensorflow.python.ops.array_ops) is deprecated and will be removed in a future version.\n",
      "Instructions for updating:\n",
      "Use tf.where in 2.0, which has the same broadcast rule as np.where\n",
      "W0821 18:33:51.315328 15808 deprecation.py:323] From C:\\Users\\rebecca.maria.murad\\AppData\\Local\\Continuum\\anaconda3\\lib\\site-packages\\tensorflow\\python\\training\\saver.py:1276: checkpoint_exists (from tensorflow.python.training.checkpoint_management) is deprecated and will be removed in a future version.\n",
      "Instructions for updating:\n",
      "Use standard file APIs to check for files with this prefix.\n",
      "W0821 18:33:51.491134 15808 deprecation.py:323] From C:\\Users\\rebecca.maria.murad\\AppData\\Local\\Continuum\\anaconda3\\lib\\site-packages\\tensorflow\\python\\training\\saver.py:1066: get_checkpoint_mtimes (from tensorflow.python.training.checkpoint_management) is deprecated and will be removed in a future version.\n",
      "Instructions for updating:\n",
      "Use standard file utilities to get mtimes.\n",
      "W0821 18:33:51.654175 15808 deprecation.py:323] From C:\\Users\\rebecca.maria.murad\\AppData\\Local\\Continuum\\anaconda3\\lib\\site-packages\\tensorflow\\python\\training\\monitored_session.py:875: start_queue_runners (from tensorflow.python.training.queue_runner_impl) is deprecated and will be removed in a future version.\n",
      "Instructions for updating:\n",
      "To construct input pipelines, use the `tf.data` module.\n"
     ]
    },
    {
     "data": {
      "text/plain": [
       "<tensorflow_estimator.python.estimator.canned.dnn.DNNClassifier at 0x1d0aa445780>"
      ]
     },
     "execution_count": 16,
     "metadata": {},
     "output_type": "execute_result"
    }
   ],
   "source": [
    "classifier.train(input_fn = train_input_fun, steps = 10000)"
   ]
  },
  {
   "cell_type": "markdown",
   "metadata": {},
   "source": [
    "### Testando e avaliando o modelo"
   ]
  },
  {
   "cell_type": "markdown",
   "metadata": {},
   "source": [
    "Vamos Primeiro criar uma função input com os dados de teste semelhante a \"train_input_fun\". Os dados \"x\" e \"y\" agora são referentes aos dados de treino, porém vamos rodar o modelo apenas 1 vez e não será necessário embaralhar os dados. <div>\n",
    "Depois iremos salvar os resultados da avaliação do modelo para comparar com as classes verdadeiras."
   ]
  },
  {
   "cell_type": "code",
   "execution_count": 17,
   "metadata": {},
   "outputs": [],
   "source": [
    "test_input_fun = tf.estimator.inputs.numpy_input_fn (\n",
    "    x = {\"x\" : x_test},\n",
    "    y = y_test.astype(np.int32),\n",
    "    num_epochs = 1,\n",
    "    shuffle = False\n",
    ")"
   ]
  },
  {
   "cell_type": "code",
   "execution_count": 18,
   "metadata": {},
   "outputs": [],
   "source": [
    "results = classifier.evaluate(input_fn = test_input_fun)"
   ]
  },
  {
   "cell_type": "code",
   "execution_count": 19,
   "metadata": {},
   "outputs": [
    {
     "name": "stdout",
     "output_type": "stream",
     "text": [
      "Precisão do teste: 97.759998%\n",
      "\n"
     ]
    }
   ],
   "source": [
    "# Printando Resultados\n",
    "\n",
    "# print(results)\n",
    "print(\"Precisão do teste: {0:f}%\\n\".format(results[\"accuracy\"] * 100))"
   ]
  },
  {
   "cell_type": "markdown",
   "metadata": {},
   "source": [
    "Vamos agora gerar a matriz confusão. Ela nos mostrará com detalhes o número de classificações corretas e equivocadas para cada uma das classes. Não recomendo utilizar quando há muitas classes envolvidas, porém é interessante observar que o ideal é que a maioria das classificações se concentrem na diagonal principal."
   ]
  },
  {
   "cell_type": "code",
   "execution_count": 20,
   "metadata": {},
   "outputs": [],
   "source": [
    "previsoes = classifier.predict(input_fn = test_input_fun)\n",
    "previsoes = list(previsoes)\n",
    "prev = []\n",
    "for n in range(len(previsoes)):\n",
    "    prev.append(previsoes[n]['class_ids'][0])"
   ]
  },
  {
   "cell_type": "code",
   "execution_count": 21,
   "metadata": {
    "scrolled": true
   },
   "outputs": [],
   "source": [
    "matrix = confusion_matrix(\n",
    "    y_true = y_test,\n",
    "    y_pred = prev\n",
    ")"
   ]
  },
  {
   "cell_type": "code",
   "execution_count": 22,
   "metadata": {},
   "outputs": [
    {
     "data": {
      "text/plain": [
       "array([[ 969,    0,    2,    2,    0,    0,    2,    1,    2,    2],\n",
       "       [   0, 1121,    3,    2,    0,    1,    4,    0,    4,    0],\n",
       "       [   5,    1, 1010,    3,    1,    0,    2,    6,    4,    0],\n",
       "       [   0,    0,    4,  997,    0,    2,    0,    3,    2,    2],\n",
       "       [   0,    0,    6,    0,  963,    0,    2,    1,    2,    8],\n",
       "       [   2,    0,    0,    9,    1,  869,    5,    1,    4,    1],\n",
       "       [   5,    2,    2,    1,    6,    2,  940,    0,    0,    0],\n",
       "       [   1,    6,    9,    3,    1,    0,    0,  998,    1,    9],\n",
       "       [   3,    0,    4,    8,    4,    4,    4,    4,  937,    6],\n",
       "       [   2,    3,    0,    8,   13,    2,    1,    8,    0,  972]],\n",
       "      dtype=int64)"
      ]
     },
     "execution_count": 22,
     "metadata": {},
     "output_type": "execute_result"
    }
   ],
   "source": [
    "matrix"
   ]
  },
  {
   "cell_type": "markdown",
   "metadata": {},
   "source": [
    "Espero que esse caderno tenha te ajudado a começar a mexer com classificação de imagens. Bons estudos e muito código pra você. <3 <3"
   ]
  },
  {
   "cell_type": "code",
   "execution_count": null,
   "metadata": {},
   "outputs": [],
   "source": []
  }
 ],
 "metadata": {
  "kernelspec": {
   "display_name": "Python 3",
   "language": "python",
   "name": "python3"
  },
  "language_info": {
   "codemirror_mode": {
    "name": "ipython",
    "version": 3
   },
   "file_extension": ".py",
   "mimetype": "text/x-python",
   "name": "python",
   "nbconvert_exporter": "python",
   "pygments_lexer": "ipython3",
   "version": "3.7.3"
  },
  "toc": {
   "base_numbering": 1,
   "nav_menu": {},
   "number_sections": true,
   "sideBar": true,
   "skip_h1_title": false,
   "title_cell": "Table of Contents",
   "title_sidebar": "Contents",
   "toc_cell": false,
   "toc_position": {},
   "toc_section_display": true,
   "toc_window_display": true
  }
 },
 "nbformat": 4,
 "nbformat_minor": 2
}
