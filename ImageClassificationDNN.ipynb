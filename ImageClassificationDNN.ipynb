{
 "cells": [
  {
   "cell_type": "markdown",
   "metadata": {},
   "source": [
    "### Importando Pacotes e Baixando Dataset"
   ]
  },
  {
   "cell_type": "code",
   "execution_count": 129,
   "metadata": {},
   "outputs": [],
   "source": [
    "from sklearn.metrics import confusion_matrix\n",
    "import matplotlib.pyplot as plt\n",
    "import tensorflow as tf\n",
    "import pandas as pd\n",
    "import numpy as np"
   ]
  },
  {
   "cell_type": "markdown",
   "metadata": {},
   "source": [
    "O dataset utilizado nesse tutorial pode ser baixado diretamente do tensorflow.\n",
    "Outra opção é utilizar o disponível no site \"https://www.kaggle.com/c/digit-recognizer\" ou utilizando o comando \"kaggle competitions download -c digit-recognizer\" no prompt de comando (note que é necessario executar \"pip install --upgrade kaggle\" antes para poder chamar a função kaggle). Neste exemplo, as bases estão no folder \"data\"."
   ]
  },
  {
   "cell_type": "code",
   "execution_count": 49,
   "metadata": {},
   "outputs": [
    {
     "name": "stdout",
     "output_type": "stream",
     "text": [
      "Extracting MNIST_data\\train-images-idx3-ubyte.gz\n",
      "Extracting MNIST_data\\train-labels-idx1-ubyte.gz\n",
      "Extracting MNIST_data\\t10k-images-idx3-ubyte.gz\n",
      "Extracting MNIST_data\\t10k-labels-idx1-ubyte.gz\n"
     ]
    }
   ],
   "source": [
    "# outter dataset: from kaggle\n",
    "\n",
    "train = pd.read_csv(\"data/train.csv\")\n",
    "test = pd.read_csv(\"data/test.csv\")\n",
    "\n",
    "# From tensorflow accessing the same dataset\n",
    "\n",
    "from tensorflow.examples.tutorials.mnist import input_data\n",
    "mnist = input_data.read_data_sets('MNIST_data')"
   ]
  },
  {
   "cell_type": "code",
   "execution_count": 50,
   "metadata": {},
   "outputs": [],
   "source": [
    "# Aqui iremos separar os datasets de treino e de teste:\n",
    "x_train = mnist.train.images\n",
    "y_train = mnist.train.labels\n",
    "\n",
    "x_test = mnist.test.images\n",
    "y_test = mnist.test.labels"
   ]
  },
  {
   "cell_type": "markdown",
   "metadata": {},
   "source": [
    "### Explorando as bases "
   ]
  },
  {
   "cell_type": "markdown",
   "metadata": {},
   "source": [
    "Aqui podemos dar uma olhada no formato de cada uma das bases. Note que as bases x's possuem 784 colunas, o que significa que a imagem possui 784 pixels em escala cinza. Já as bases y's possuem apenas uma coluna que é o label (classe) de cada imagem. Por fim, a unica diferença entre as bases tipo \"train\" e \"test\" é o número de amostras."
   ]
  },
  {
   "cell_type": "code",
   "execution_count": 51,
   "metadata": {},
   "outputs": [
    {
     "name": "stdout",
     "output_type": "stream",
     "text": [
      "Train shape:\n",
      "(55000, 784)\n",
      "(55000,)\n",
      "\n",
      "Test shape:\n",
      "(10000, 784)\n",
      "(10000,)\n"
     ]
    }
   ],
   "source": [
    "print(\"Train shape:\")\n",
    "print(x_train.shape)\n",
    "print(y_train.shape)\n",
    "print(\"\\nTest shape:\")\n",
    "print(x_test.shape)\n",
    "print(y_test.shape)"
   ]
  },
  {
   "cell_type": "markdown",
   "metadata": {},
   "source": [
    "Aqui iremos plotar uma das imagens para que possamos conhecer melhor a base. É importante observar que os dados estão dispostos em um único vetor, então será necessário aplicar a função \"reshape\" para vizualizar a imagem 2D."
   ]
  },
  {
   "cell_type": "code",
   "execution_count": 52,
   "metadata": {},
   "outputs": [
    {
     "data": {
      "image/png": "[encoded data removed]",
      "text/plain": [
       "<Figure size 432x288 with 1 Axes>"
      ]
     },
     "metadata": {
      "needs_background": "light"
     },
     "output_type": "display_data"
    }
   ],
   "source": [
    "# Tente mudar o numero do índice para ver diferentes números na imagem\n",
    "# Obs: também é possível variar entre as bases\n",
    "rdm_img = x_train[25004]\n",
    "\n",
    "rdm_img = rdm_img.reshape((28,28))\n",
    "plt.imshow(rdm_img, cmap='gray')\n",
    "plt.show()"
   ]
  },
  {
   "cell_type": "markdown",
   "metadata": {},
   "source": [
    "### Construindo a rede DNN (Deconvultional Neural Network)"
   ]
  },
  {
   "cell_type": "markdown",
   "metadata": {},
   "source": [
    "Aqui iremos construir uma rede do tipo Deconvultional Neural Network. Se quiser se aprofundar mais nos tipos de redes neurais eu recomendo fortemente o site \"http://www.asimovinstitute.org/neural-network-zoo/\". Lá você verá que esse não é o tipo de rede mais recomendado para esse tipo de classificação, pois é pouco perfomático (lento para processar esse tipo de dado). O ideal seria utilizar uma rede do tipo convulsional, porém o dataset em questão é bem simples, o que permite essa abordagem."
   ]
  },
  {
   "cell_type": "markdown",
   "metadata": {},
   "source": [
    "Vale pontuar que estamos trabalhando com aprendizagem do tipo supervisionada, ou seja, nos sabemos quais são as classificações existentes e cada dado de treino está associado a uma classe."
   ]
  },
  {
   "cell_type": "markdown",
   "metadata": {},
   "source": [
    "Chamamos de features todas as variáveis que exceto a Classe. Elas são as nossas informações de entrada e é com elas que o algorítimo \"aprenderá\" a ler a imagem."
   ]
  },
  {
   "cell_type": "markdown",
   "metadata": {},
   "source": [
    "Um estimator é uma API de alto nível que, no caso, simplifica a criação de uma rede neural no tensorflow. Você pode encontrar mais detalhes em \"https://www.tensorflow.org/guide/estimators\". <div>\n",
    "Os Parâmetros usados serão:\n",
    "- feature_columns : Determina o formato das colunas de treino\n",
    "- hidden_units : Número de neuronios por camada\n",
    "- activation_fn : Função de ativação dos neurônios (https://medium.com/the-theory-of-everything/understanding-activation-functions-in-neural-networks-9491262884e0)\n",
    "- optimizer : otimizador https://www.tensorflow.org/api_docs/python/tf/train/AdamOptimizer com taxa de aprendizagem (https://machinelearningmastery.com/learning-rate-for-deep-learning-neural-networks/)\n",
    "- n_classes : Número de classes da base (10 no caso)\n",
    "- dropout : \"Desliga\" eventualmente uma porcentagem de neurônios, evitando overfitting\n",
    "- model_dir : Diretório onde irá salvar os checkpoints do modelo"
   ]
  },
  {
   "cell_type": "code",
   "execution_count": 61,
   "metadata": {},
   "outputs": [],
   "source": [
    "# Ensinando o tipo de imagem que estamos lidando\n",
    "feature_columns = [tf.feature_column.numeric_column(\"x\", shape=[28,28])]"
   ]
  },
  {
   "cell_type": "code",
   "execution_count": 66,
   "metadata": {},
   "outputs": [],
   "source": [
    "# Gerando o Classificador\n",
    "classifier = tf.estimator.DNNClassifier(\n",
    "    feature_columns = feature_columns,\n",
    "    hidden_units = [256, 32],\n",
    "    activation_fn = tf.nn.relu, # Função de ativação \"relu\"\n",
    "    optimizer = tf.train.AdamOptimizer(1e-4),\n",
    "    n_classes = 10,\n",
    "    dropout = 0.1,\n",
    "    model_dir = \"./mnist_model\"\n",
    ")"
   ]
  },
  {
   "cell_type": "markdown",
   "metadata": {},
   "source": [
    "Vamos definir uma função de input para ativar a rede. Os Parâmetros usados serão:\n",
    "- x : features usadas para treino\n",
    "- y : label\n",
    "- num_epochs vs batch_size : sugiro ler https://towardsdatascience.com/epoch-vs-iterations-vs-batch-size-4dfb9c7ce9c9 \n",
    "- shuffle : Se queremos embaralhar a base ao treinar o dataset"
   ]
  },
  {
   "cell_type": "code",
   "execution_count": 67,
   "metadata": {},
   "outputs": [],
   "source": [
    "# Input no formato de numpy_input_fn pq os dados estão em um numpy array\n",
    "train_input_fun = tf.estimator.inputs.numpy_input_fn (\n",
    "    x = {\"x\" : x_train},\n",
    "    y = y_train.astype(np.int32),\n",
    "    num_epochs = None,\n",
    "    batch_size = 50,\n",
    "    shuffle = True\n",
    ")"
   ]
  },
  {
   "cell_type": "markdown",
   "metadata": {},
   "source": [
    "### Treinando o modelo"
   ]
  },
  {
   "cell_type": "markdown",
   "metadata": {},
   "source": [
    "Com todos os preparativos feitos, vamos simplesmente chamar a função \"train_input_fun\" no nosso classificador, elegendo o número de steps (que será o número de épocas de treino)."
   ]
  },
  {
   "cell_type": "code",
   "execution_count": 68,
   "metadata": {},
   "outputs": [
    {
     "data": {
      "text/plain": [
       "<tensorflow_estimator.python.estimator.canned.dnn.DNNClassifier at 0x136df13aa20>"
      ]
     },
     "execution_count": 68,
     "metadata": {},
     "output_type": "execute_result"
    }
   ],
   "source": [
    "classifier.train(input_fn = train_input_fun, steps = 10000)"
   ]
  },
  {
   "cell_type": "markdown",
   "metadata": {},
   "source": [
    "### Testando e avaliando o modelo"
   ]
  },
  {
   "cell_type": "markdown",
   "metadata": {},
   "source": [
    "Vamos Primeiro criar uma função input com os dados de teste semelhante a \"train_input_fun\". Os dados \"x\" e \"y\" agora são referentes aos dados de treino, porém vamos rodar o modelo apenas 1 vez e não será necessário embaralhar os dados. <div>\n",
    "Depois iremos salvar os resultados da avaliação do modelo para comparar com as classes verdadeiras."
   ]
  },
  {
   "cell_type": "code",
   "execution_count": 69,
   "metadata": {},
   "outputs": [],
   "source": [
    "test_input_fun = tf.estimator.inputs.numpy_input_fn (\n",
    "    x = {\"x\" : x_test},\n",
    "    y = y_test.astype(np.int32),\n",
    "    num_epochs = 1,\n",
    "    shuffle = False\n",
    ")"
   ]
  },
  {
   "cell_type": "code",
   "execution_count": 70,
   "metadata": {},
   "outputs": [
    {
     "name": "stderr",
     "output_type": "stream",
     "text": [
      "W0821 14:23:10.725805  3032 deprecation.py:323] From C:\\Users\\rebecca.maria.murad\\AppData\\Local\\Continuum\\anaconda3\\lib\\site-packages\\tensorflow\\python\\training\\saver.py:1276: checkpoint_exists (from tensorflow.python.training.checkpoint_management) is deprecated and will be removed in a future version.\n",
      "Instructions for updating:\n",
      "Use standard file APIs to check for files with this prefix.\n"
     ]
    }
   ],
   "source": [
    "results = classifier.evaluate(input_fn = test_input_fun)"
   ]
  },
  {
   "cell_type": "code",
   "execution_count": 74,
   "metadata": {},
   "outputs": [
    {
     "name": "stdout",
     "output_type": "stream",
     "text": [
      "Precisão do teste: 96.990001%\n",
      "\n"
     ]
    }
   ],
   "source": [
    "# Printando Resultados\n",
    "\n",
    "# print(results)\n",
    "print(\"Precisão do teste: {0:f}%\\n\".format(results[\"accuracy\"] * 100))"
   ]
  },
  {
   "cell_type": "markdown",
   "metadata": {},
   "source": [
    "Vamos agora gerar a matriz confusão. Ela nos mostrará com detalhes o número de classificações corretas e equivocadas para cada uma das classes. Não recomendo utilizar quando há muitas classes envolvidas, porém é interessante observar que o ideal é que a maioria das classificações se concentrem na diagonal principal."
   ]
  },
  {
   "cell_type": "code",
   "execution_count": 108,
   "metadata": {},
   "outputs": [],
   "source": [
    "previsoes = classifier.predict(input_fn = test_input_fun)\n",
    "previsoes = list(previsoes)\n",
    "prev = []\n",
    "for n in range(len(previsoes)):\n",
    "    prev.append(previsoes[n]['class_ids'][0])"
   ]
  },
  {
   "cell_type": "code",
   "execution_count": 134,
   "metadata": {
    "scrolled": true
   },
   "outputs": [],
   "source": [
    "matrix = confusion_matrix(\n",
    "    y_true = y_test,\n",
    "    y_pred = prev\n",
    ")"
   ]
  },
  {
   "cell_type": "code",
   "execution_count": 135,
   "metadata": {},
   "outputs": [
    {
     "data": {
      "text/plain": [
       "array([[ 968,    0,    1,    2,    0,    2,    5,    1,    1,    0],\n",
       "       [   0, 1121,    3,    2,    0,    1,    4,    1,    3,    0],\n",
       "       [   7,    0, 1001,    3,    2,    1,    3,    6,    9,    0],\n",
       "       [   0,    0,    6,  983,    1,    7,    0,    7,    5,    1],\n",
       "       [   1,    0,    7,    0,  961,    0,    3,    2,    2,    6],\n",
       "       [   2,    0,    0,   10,    3,  863,    6,    1,    4,    3],\n",
       "       [   4,    3,    0,    1,    8,    4,  936,    0,    2,    0],\n",
       "       [   1,    7,   10,    3,    3,    0,    0,  989,    1,   14],\n",
       "       [   3,    2,    4,    9,    4,    5,    4,    7,  933,    3],\n",
       "       [   5,    6,    1,   13,   22,    5,    1,   10,    2,  944]],\n",
       "      dtype=int64)"
      ]
     },
     "execution_count": 135,
     "metadata": {},
     "output_type": "execute_result"
    }
   ],
   "source": [
    "matrix"
   ]
  },
  {
   "cell_type": "markdown",
   "metadata": {},
   "source": [
    "Espero que esse caderno tenha te ajudado a começar a mexer com classificação de imagens. Bons estudos e muito código pra você. <3 <3"
   ]
  },
  {
   "cell_type": "code",
   "execution_count": null,
   "metadata": {},
   "outputs": [],
   "source": []
  }
 ],
 "metadata": {
  "kernelspec": {
   "display_name": "Python 3",
   "language": "python",
   "name": "python3"
  },
  "language_info": {
   "codemirror_mode": {
    "name": "ipython",
    "version": 3
   },
   "file_extension": ".py",
   "mimetype": "text/x-python",
   "name": "python",
   "nbconvert_exporter": "python",
   "pygments_lexer": "ipython3",
   "version": "3.7.3"
  },
  "toc": {
   "base_numbering": 1,
   "nav_menu": {},
   "number_sections": true,
   "sideBar": true,
   "skip_h1_title": false,
   "title_cell": "Table of Contents",
   "title_sidebar": "Contents",
   "toc_cell": false,
   "toc_position": {},
   "toc_section_display": true,
   "toc_window_display": true
  }
 },
 "nbformat": 4,
 "nbformat_minor": 2
}
